{
 "cells": [
  {
   "cell_type": "markdown",
   "source": [
    "ある商品をとある輸送方法（コンテナ）で輸送したいという条件が与えられた際に、コンテナに商品が詰込可能かを判別する\n"
   ],
   "metadata": {}
  },
  {
   "cell_type": "markdown",
   "source": [
    "# ０．設定"
   ],
   "metadata": {}
  },
  {
   "cell_type": "code",
   "execution_count": 314,
   "source": [
    "import time \n",
    "import pandas as pd\n",
    "import random\n",
    "import math\n",
    "import numpy as np\n",
    "\n",
    "from mpl_toolkits.mplot3d import Axes3D\n",
    "from mpl_toolkits.mplot3d.art3d import Poly3DCollection\n",
    "import matplotlib.pyplot as plt\n",
    "\n",
    "import py3dbp\n",
    "import quantity_optimization\n",
    "from load_master import loadMasterData\n",
    "\n",
    "datasets_dir = \"/home/user1/work/001_OsakiMedical/data/master_tsv/\"\n",
    "start_date = \"20211001\"\n",
    "end_date = \"20211231\"\n",
    "\n",
    "sectionCD = \"100100\"\n",
    "lineCD = \"01\"\n",
    "\n",
    "LC = [\n",
    "    \"000700\", #関東\n",
    "    \"000300\", #東海\n",
    "    \"000900\", #九州\n",
    "    \"004000\"  #札幌\n",
    "    ]\n",
    "\n",
    "sections = [\"100100\",'100310'] #100100(Osan Pad),100310(3D)"
   ],
   "outputs": [],
   "metadata": {}
  },
  {
   "cell_type": "markdown",
   "source": [
    "# １．前処理"
   ],
   "metadata": {}
  },
  {
   "cell_type": "markdown",
   "source": [
    "## １．１．積荷前処理（積荷データ作成）"
   ],
   "metadata": {}
  },
  {
   "cell_type": "code",
   "execution_count": 315,
   "source": [
    "## データ読込\n",
    "ai_item = loadMasterData(datasets_dir).ai_item\n",
    "item_quantity_input_pre = ai_item[(ai_item[\"Section CD\"].isin(sections))][[\"Item CD\",\"Section CD\",\"Line CD\"]]\n",
    "\n",
    "## 各商品にLC毎の行を作成\n",
    "item_quantity_input = pd.DataFrame()\n",
    "_item_quantity_input = item_quantity_input_pre\n",
    "\n",
    "for lc in LC:\n",
    "    _item_quantity_input.loc[:,\"LC\"] = lc\n",
    "    item_quantity_input = pd.concat([item_quantity_input, _item_quantity_input], axis = 0)\n",
    "\n",
    "#ランダムで発注量を設定\n",
    "item_quantity_input[\"item_quantity\"] = item_quantity_input.apply(lambda x:random.randint(10,100),axis=1)\n",
    "\n",
    "omf = quantity_optimization.optimizeFactoryManufacturing(datasets_dir,item_quantity_input,start_date,end_date)\n",
    "lines_df = item_quantity_input\n",
    "\n",
    "def convert_volume(row):\n",
    "    item_details = omf.item_df[omf.item_df[\"商品コード\"]==row[\"Item CD\"]]\n",
    "    #　（商品数）✕　（最大荷姿容積）　÷　（最大荷姿入数）　　を切り上げ\n",
    "    volume = math.ceil(row[\"item_quantity\"]/item_details[\"最大荷姿入数\"].values[0])*item_details[\"最大荷姿容積\"].values[0]\n",
    "    return volume\n",
    "\n",
    "def convert_pack(row):\n",
    "    item_details = omf.item_df[omf.item_df[\"商品コード\"]==row[\"Item CD\"]]\n",
    "    #　（商品数）✕　（最大荷姿容積）　÷　（最大荷姿入数）　　を切り上げ\n",
    "    pack = math.ceil(row[\"item_quantity\"]/item_details[\"最大荷姿入数\"].values[0])\n",
    "    return pack\n",
    "\n",
    "\n",
    "item_quantity_input[\"volume\"] = item_quantity_input.apply(convert_volume,axis=1)\n",
    "item_quantity_input[\"pack\"] = item_quantity_input.apply(convert_pack,axis=1)\n",
    "# item_quantity_input[\"Shipping_order\"] = item_quantity_input.sample(frac=1).index #出荷順序を指定"
   ],
   "outputs": [],
   "metadata": {}
  },
  {
   "cell_type": "code",
   "execution_count": 316,
   "source": [
    "item_quantity_input"
   ],
   "outputs": [
    {
     "output_type": "execute_result",
     "data": {
      "text/plain": [
       "      Item CD Section CD Line CD      LC  item_quantity    volume  pack\n",
       "0    00083616     100100      01  000700             66  0.238908     2\n",
       "1    00083622     100100      01  000700             44  0.039613     1\n",
       "2    00083628     100100      01  000700             20  0.082170     1\n",
       "3    00083629     100100      01  000700            100  0.328680     4\n",
       "4    00083645     100100      01  000700             62  0.139194     2\n",
       "..        ...        ...     ...     ...            ...       ...   ...\n",
       "148  00098923     100310      01  004000             80  0.122512     4\n",
       "149  00098924     100310      01  004000             86  0.293256     8\n",
       "150  00098928     100310      01  004000             38  0.082467     1\n",
       "151  96130039     100310      01  004000             75  4.689825    75\n",
       "152  96130040     100310      01  004000             48  3.001488    48\n",
       "\n",
       "[244 rows x 7 columns]"
      ],
      "text/html": [
       "<div>\n",
       "<style scoped>\n",
       "    .dataframe tbody tr th:only-of-type {\n",
       "        vertical-align: middle;\n",
       "    }\n",
       "\n",
       "    .dataframe tbody tr th {\n",
       "        vertical-align: top;\n",
       "    }\n",
       "\n",
       "    .dataframe thead th {\n",
       "        text-align: right;\n",
       "    }\n",
       "</style>\n",
       "<table border=\"1\" class=\"dataframe\">\n",
       "  <thead>\n",
       "    <tr style=\"text-align: right;\">\n",
       "      <th></th>\n",
       "      <th>Item CD</th>\n",
       "      <th>Section CD</th>\n",
       "      <th>Line CD</th>\n",
       "      <th>LC</th>\n",
       "      <th>item_quantity</th>\n",
       "      <th>volume</th>\n",
       "      <th>pack</th>\n",
       "    </tr>\n",
       "  </thead>\n",
       "  <tbody>\n",
       "    <tr>\n",
       "      <th>0</th>\n",
       "      <td>00083616</td>\n",
       "      <td>100100</td>\n",
       "      <td>01</td>\n",
       "      <td>000700</td>\n",
       "      <td>66</td>\n",
       "      <td>0.238908</td>\n",
       "      <td>2</td>\n",
       "    </tr>\n",
       "    <tr>\n",
       "      <th>1</th>\n",
       "      <td>00083622</td>\n",
       "      <td>100100</td>\n",
       "      <td>01</td>\n",
       "      <td>000700</td>\n",
       "      <td>44</td>\n",
       "      <td>0.039613</td>\n",
       "      <td>1</td>\n",
       "    </tr>\n",
       "    <tr>\n",
       "      <th>2</th>\n",
       "      <td>00083628</td>\n",
       "      <td>100100</td>\n",
       "      <td>01</td>\n",
       "      <td>000700</td>\n",
       "      <td>20</td>\n",
       "      <td>0.082170</td>\n",
       "      <td>1</td>\n",
       "    </tr>\n",
       "    <tr>\n",
       "      <th>3</th>\n",
       "      <td>00083629</td>\n",
       "      <td>100100</td>\n",
       "      <td>01</td>\n",
       "      <td>000700</td>\n",
       "      <td>100</td>\n",
       "      <td>0.328680</td>\n",
       "      <td>4</td>\n",
       "    </tr>\n",
       "    <tr>\n",
       "      <th>4</th>\n",
       "      <td>00083645</td>\n",
       "      <td>100100</td>\n",
       "      <td>01</td>\n",
       "      <td>000700</td>\n",
       "      <td>62</td>\n",
       "      <td>0.139194</td>\n",
       "      <td>2</td>\n",
       "    </tr>\n",
       "    <tr>\n",
       "      <th>...</th>\n",
       "      <td>...</td>\n",
       "      <td>...</td>\n",
       "      <td>...</td>\n",
       "      <td>...</td>\n",
       "      <td>...</td>\n",
       "      <td>...</td>\n",
       "      <td>...</td>\n",
       "    </tr>\n",
       "    <tr>\n",
       "      <th>148</th>\n",
       "      <td>00098923</td>\n",
       "      <td>100310</td>\n",
       "      <td>01</td>\n",
       "      <td>004000</td>\n",
       "      <td>80</td>\n",
       "      <td>0.122512</td>\n",
       "      <td>4</td>\n",
       "    </tr>\n",
       "    <tr>\n",
       "      <th>149</th>\n",
       "      <td>00098924</td>\n",
       "      <td>100310</td>\n",
       "      <td>01</td>\n",
       "      <td>004000</td>\n",
       "      <td>86</td>\n",
       "      <td>0.293256</td>\n",
       "      <td>8</td>\n",
       "    </tr>\n",
       "    <tr>\n",
       "      <th>150</th>\n",
       "      <td>00098928</td>\n",
       "      <td>100310</td>\n",
       "      <td>01</td>\n",
       "      <td>004000</td>\n",
       "      <td>38</td>\n",
       "      <td>0.082467</td>\n",
       "      <td>1</td>\n",
       "    </tr>\n",
       "    <tr>\n",
       "      <th>151</th>\n",
       "      <td>96130039</td>\n",
       "      <td>100310</td>\n",
       "      <td>01</td>\n",
       "      <td>004000</td>\n",
       "      <td>75</td>\n",
       "      <td>4.689825</td>\n",
       "      <td>75</td>\n",
       "    </tr>\n",
       "    <tr>\n",
       "      <th>152</th>\n",
       "      <td>96130040</td>\n",
       "      <td>100310</td>\n",
       "      <td>01</td>\n",
       "      <td>004000</td>\n",
       "      <td>48</td>\n",
       "      <td>3.001488</td>\n",
       "      <td>48</td>\n",
       "    </tr>\n",
       "  </tbody>\n",
       "</table>\n",
       "<p>244 rows × 7 columns</p>\n",
       "</div>"
      ]
     },
     "metadata": {},
     "execution_count": 316
    }
   ],
   "metadata": {}
  },
  {
   "cell_type": "markdown",
   "source": [
    "## １．２．輸送前処理（輸送マスタ作成）"
   ],
   "metadata": {}
  },
  {
   "cell_type": "code",
   "execution_count": 317,
   "source": [
    "## LC間移動可能曜日\n",
    "str_to_float = lambda x:float(\"\".join(x.split(\",\"))) if x is not np.nan else 0\n",
    "course_master = omf.lc_cost[[\"輸送名\", \"From倉庫コード\",\"To倉庫コード\",\"輸送CD\",\"輸送LT\", \"W（幅）mm\", \"D(長さ）mm\", \"H(高さ）mm\", \"最大積載容積（立米）\"]].copy()\n",
    "course_master.columns = [\"name\", \"from_cd\",\"to_cd\",\"transport_cd\",\"transport_lt\",\"width\", \"depth\", \"height\", \"capacity\"]\n",
    "course_master[\"cost\"] = omf.lc_cost[\"移動コスト（円/立米）\"].apply(str_to_float)*omf.lc_cost[\"最大積載容積（立米）\"].astype(float)\n",
    "course_master[\"transport_lt\"]=course_master[\"transport_lt\"].astype(int)\n",
    "# omf.lc_cost[\"最大積載容積（立米）\"].astype(float)*\n",
    "\n",
    "## インドネシアから各物流センタからの輸送コストマスタ\n",
    "_course_master = omf.shipping_cost[[\"輸送名\", \"仕入先コード\",\"倉庫コード\",\"輸送CD\", \"W（幅）mm\", \"D(長さ）mm\", \"H(高さ）mm\",\"最大積載容積（立米）\"]].copy()\n",
    "_course_master.columns = [\"name\", \"from_cd\",\"to_cd\",\"transport_cd\",\"width\", \"depth\", \"height\",\"capacity\"]\n",
    "_course_master[\"cost\"] = omf.shipping_cost[\"輸送費用\"].apply(str_to_float)\n",
    "_course_master[\"transport_lt\"] = omf.shipping_cost[\"通常積込LT（日）\"].astype(float)+omf.shipping_cost[\"輸送LT（日）\"].astype(float)\n",
    "\n",
    "## LC間移動とインドネシア間を結合\n",
    "carry_master = pd.concat([course_master,\n",
    "_course_master]).reset_index(drop=True)\n",
    "carry_master[\"capacity\"]=carry_master[\"capacity\"].astype(int)"
   ],
   "outputs": [],
   "metadata": {}
  },
  {
   "cell_type": "code",
   "execution_count": 318,
   "source": [
    "# carry_master"
   ],
   "outputs": [],
   "metadata": {}
  },
  {
   "cell_type": "markdown",
   "source": [
    "## １．３．商品前処理（商品荷姿容積マスタ作成）"
   ],
   "metadata": {}
  },
  {
   "cell_type": "code",
   "execution_count": 319,
   "source": [
    "df_pro_wdh = pd.read_csv(datasets_dir + \"商品形状マスタ.csv\")[[\"商品CD\", \"商品名\", \"幅mm\",\"高さmm\",\"奥行mm\"]].copy()\n",
    "df_pro_wdh[\"商品CD\"] = df_pro_wdh[\"商品CD\"].astype(str).str.zfill(8)\n",
    "df_pro_wdh.columns = [\"Item CD\", \"Item Name\", \"width\", \"height\", \"depth\"]"
   ],
   "outputs": [],
   "metadata": {}
  },
  {
   "cell_type": "code",
   "execution_count": 320,
   "source": [
    "# df_pro_wdh"
   ],
   "outputs": [],
   "metadata": {}
  },
  {
   "cell_type": "markdown",
   "source": [
    "# ２．詰込判定"
   ],
   "metadata": {}
  },
  {
   "cell_type": "code",
   "execution_count": 321,
   "source": [
    "Packer = py3dbp.Packer()\n",
    "item_quantity_input = item_quantity_input.merge(df_pro_wdh, on = \"Item CD\", how = \"inner\")\n",
    "\n",
    "## インドネシアから東海LCへの40FT HCコンテナ輸送\n",
    "target_transportation = 17\n",
    "target_LC = \"000300\""
   ],
   "outputs": [],
   "metadata": {}
  },
  {
   "cell_type": "code",
   "execution_count": 322,
   "source": [
    "#item_quantity_input"
   ],
   "outputs": [],
   "metadata": {}
  },
  {
   "cell_type": "markdown",
   "source": [
    "## ２．１　判定対象輸送・コンテナ定義"
   ],
   "metadata": {}
  },
  {
   "cell_type": "code",
   "execution_count": 323,
   "source": [
    "container = [carry_master.iloc[target_transportation][\"name\"], carry_master.iloc[target_transportation][\"width\"], carry_master.iloc[target_transportation][\"height\"], carry_master.iloc[target_transportation][\"depth\"]]\n",
    "Packer.add_bin(py3dbp.Bin(\n",
    "    carry_master.iloc[target_transportation][\"name\"],\n",
    "    carry_master.iloc[target_transportation][\"width\"],\n",
    "    carry_master.iloc[target_transportation][\"height\"],\n",
    "    carry_master.iloc[target_transportation][\"depth\"],\n",
    "    1 #重さは考慮しない\n",
    "))\n",
    "print(f\"==コンテナを設定しました==\\n name:{container[0]}\\n width:{container[1]}\\n height:{container[2]}\\n depth:{container[3]}\\n\")"
   ],
   "outputs": [
    {
     "output_type": "stream",
     "name": "stdout",
     "text": [
      "==コンテナを設定しました==\n",
      " name:Omi_to_Tokai_40FtHc\n",
      " width:2350\n",
      " height:2690\n",
      " depth:12000\n",
      "\n"
     ]
    }
   ],
   "metadata": {}
  },
  {
   "cell_type": "markdown",
   "source": [
    "## ２．２．判定対象商品定義"
   ],
   "metadata": {}
  },
  {
   "cell_type": "code",
   "execution_count": 324,
   "source": [
    "items_to_pack = item_quantity_input[item_quantity_input[\"LC\"] == target_LC]\n",
    "\n",
    "cnt = 0\n",
    "for index, row in items_to_pack.iterrows():\n",
    "    for i in range(row[\"pack\"]):\n",
    "        Packer.add_item(py3dbp.Item(\n",
    "            row[\"Item CD\"],\n",
    "            row[\"width\"],\n",
    "            row[\"height\"],\n",
    "            row[\"depth\"],\n",
    "            0 #重さは考慮しない\n",
    "            ))\n",
    "        cnt += 1\n",
    "print(f\"== {cnt}商品を設定しました ==\")"
   ],
   "outputs": [
    {
     "output_type": "stream",
     "name": "stdout",
     "text": [
      "== 285商品を設定しました ==\n"
     ]
    }
   ],
   "metadata": {}
  },
  {
   "cell_type": "markdown",
   "source": [
    "## ２．３．詰込可否判定"
   ],
   "metadata": {}
  },
  {
   "cell_type": "code",
   "execution_count": 325,
   "source": [
    "start = time.time()\n",
    "Packer.pack(bigger_first=True)\n",
    "end = time.time()\n",
    "print(f\"== 詰込可否計算完了　処理時間 : {end-start:.1f} 秒\")"
   ],
   "outputs": [
    {
     "output_type": "stream",
     "name": "stdout",
     "text": [
      "== 詰込可否計算完了　処理時間 : 17.2 秒\n"
     ]
    }
   ],
   "metadata": {}
  },
  {
   "cell_type": "code",
   "execution_count": 326,
   "source": [
    "    positions = []\n",
    "    sizes = []\n",
    "    colors = []\n",
    "\n",
    "    for b in Packer.bins:\n",
    "        print(\"==\", b.string(), \"==\")\n",
    "        print(\"==\", b.string(), \"==\")\n",
    "        if not b.unfitted_items:\n",
    "            print(\"　全商品詰込可\")\n",
    "        \n",
    "        else:\n",
    "            print(\"　詰込不可商品:\")\n",
    "            for item in b.unfitted_items:\n",
    "                print(\"　====> \", item.string())\n",
    "\n",
    "        for item in b.items:\n",
    "            # print(\"====> \", item.string())\n",
    "            x = float(item.position[0])\n",
    "            y = float(item.position[1])\n",
    "            z = float(item.position[2])\n",
    "            positions.append((x,y,z))\n",
    "            sizes.append((float(item.get_dimension()[0]), float(item.get_dimension()[1]), float(item.get_dimension()[2])))\n"
   ],
   "outputs": [
    {
     "output_type": "stream",
     "name": "stdout",
     "text": [
      "== Omi_to_Tokai_40FtHc(2350.000x2690.000x12000.000, max_weight:1.000) vol(75858000000.000) ==\n",
      "== Omi_to_Tokai_40FtHc(2350.000x2690.000x12000.000, max_weight:1.000) vol(75858000000.000) ==\n",
      "　全商品詰込可\n"
     ]
    }
   ],
   "metadata": {}
  },
  {
   "cell_type": "markdown",
   "source": [
    "# ３．荷姿図示・積載割合（体積）"
   ],
   "metadata": {}
  },
  {
   "cell_type": "code",
   "execution_count": 327,
   "source": [
    "def get_filling_ratio(b):\n",
    "    total_filling_volume = 0\n",
    "    total_filling_ratio = 0\n",
    "    \n",
    "    for item in b.items:\n",
    "        total_filling_volume += item.get_volume()\n",
    "        \n",
    "    total_filling_ratio = total_filling_volume / b.get_volume()\n",
    "    return total_filling_ratio\n",
    "\n",
    "def cuboid_data2(o, size=(3,3,3)):\n",
    "    X = [[[0, 1, 0], [0, 0, 0], [1, 0, 0], [1, 1, 0]],\n",
    "        [[0, 0, 0], [0, 0, 1], [1, 0, 1], [1, 0, 0]],\n",
    "        [[1, 0, 1], [1, 0, 0], [1, 1, 0], [1, 1, 1]],\n",
    "        [[0, 0, 1], [0, 0, 0], [0, 1, 0], [0, 1, 1]],\n",
    "        [[0, 1, 0], [0, 1, 1], [1, 1, 1], [1, 1, 0]],\n",
    "        [[0, 1, 1], [0, 0, 1], [1, 0, 1], [1, 1, 1]]]\n",
    "    X = np.array(X).astype(float)\n",
    "    for i in range(3):\n",
    "        X[:,:,i] *= size[i]\n",
    "    X += np.array(o)\n",
    "    return X\n",
    "\n",
    "def plotCubeAt2(positions,sizes=None,colors=None, **kwargs):\n",
    "    if not isinstance(colors,(list,np.ndarray)): colors=[\"C0\"]*len(positions)\n",
    "    if not isinstance(sizes,(list,np.ndarray)): sizes=[(1,1,1)]*len(positions)\n",
    "    g = []\n",
    "    for p,s,c in zip(positions,sizes,colors):\n",
    "        g.append( cuboid_data2(p, size=s) )\n",
    "    return Poly3DCollection(np.concatenate(g),  \n",
    "                            facecolors=np.repeat(colors,6), **kwargs)\n",
    "    \n",
    "\n",
    "colorList = [\"crimson\",\"limegreen\",\"g\",\"r\",\"c\",\"m\",\"y\",\"k\"]\n",
    "\n",
    "for i in range(len(b.items)):\n",
    "    f = random.randint(0,7)\n",
    "    colors.append(colorList[f])\n",
    "\n",
    "fig = plt.figure()\n",
    "ax = fig.gca(projection='3d')\n",
    "ax.set_aspect('auto')\n",
    "\n",
    "pc = plotCubeAt2(positions,sizes,colors=colors, edgecolor=\"k\")\n",
    "ax.add_collection3d(pc)    \n",
    "\n",
    "ax.set_xlim([0, Packer.bins[0].width])\n",
    "ax.set_ylim([0, Packer.bins[0].height])\n",
    "ax.set_zlim([0, Packer.bins[0].depth])\n",
    "\n",
    "plt.show()\n",
    "\n",
    "for b in Packer.bins:\n",
    "    print(f\"積載割合：{get_filling_ratio(b)*100:.2f}%\")"
   ],
   "outputs": [
    {
     "output_type": "display_data",
     "data": {
      "text/plain": [
       "<Figure size 432x288 with 1 Axes>"
      ],
      "image/png": "[encoded data removed]"
     },
     "metadata": {
      "needs_background": "light"
     }
    },
    {
     "output_type": "stream",
     "name": "stdout",
     "text": [
      "積載割合：31.26%\n"
     ]
    }
   ],
   "metadata": {}
  },
  {
   "cell_type": "code",
   "execution_count": null,
   "source": [],
   "outputs": [],
   "metadata": {}
  }
 ],
 "metadata": {
  "orig_nbformat": 4,
  "language_info": {
   "name": "python",
   "version": "3.8.8",
   "mimetype": "text/x-python",
   "codemirror_mode": {
    "name": "ipython",
    "version": 3
   },
   "pygments_lexer": "ipython3",
   "nbconvert_exporter": "python",
   "file_extension": ".py"
  },
  "kernelspec": {
   "name": "python3",
   "display_name": "Python 3.8.8 64-bit ('base': conda)"
  },
  "interpreter": {
   "hash": "9ace560dd26168e866b0ad16ab3c4da1529a1566286ec1c47ef117902249e4d5"
  }
 },
 "nbformat": 4,
 "nbformat_minor": 2
}